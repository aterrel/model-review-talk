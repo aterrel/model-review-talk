{
 "cells": [
  {
   "cell_type": "code",
   "execution_count": 10,
   "metadata": {
    "slideshow": {
     "slide_type": "skip"
    }
   },
   "outputs": [
    {
     "ename": "ModuleNotFoundError",
     "evalue": "No module named 'pandas_profiling'",
     "output_type": "error",
     "traceback": [
      "\u001b[0;31m---------------------------------------------------------------------------\u001b[0m",
      "\u001b[0;31mModuleNotFoundError\u001b[0m                       Traceback (most recent call last)",
      "\u001b[0;32m<ipython-input-10-93358c3c7d5a>\u001b[0m in \u001b[0;36m<module>\u001b[0;34m()\u001b[0m\n\u001b[1;32m      8\u001b[0m \u001b[0;32mimport\u001b[0m \u001b[0mnumpy\u001b[0m \u001b[0;32mas\u001b[0m \u001b[0mnp\u001b[0m\u001b[0;34m\u001b[0m\u001b[0;34m\u001b[0m\u001b[0m\n\u001b[1;32m      9\u001b[0m \u001b[0;32mimport\u001b[0m \u001b[0mpandas\u001b[0m \u001b[0;32mas\u001b[0m \u001b[0mpd\u001b[0m\u001b[0;34m\u001b[0m\u001b[0;34m\u001b[0m\u001b[0m\n\u001b[0;32m---> 10\u001b[0;31m \u001b[0;32mimport\u001b[0m \u001b[0mpandas_profiling\u001b[0m\u001b[0;34m\u001b[0m\u001b[0;34m\u001b[0m\u001b[0m\n\u001b[0m\u001b[1;32m     11\u001b[0m \u001b[0;32mimport\u001b[0m \u001b[0mseaborn\u001b[0m \u001b[0;32mas\u001b[0m \u001b[0msns\u001b[0m\u001b[0;34m\u001b[0m\u001b[0;34m\u001b[0m\u001b[0m\n\u001b[1;32m     12\u001b[0m \u001b[0;32mimport\u001b[0m \u001b[0mstatsmodels\u001b[0m\u001b[0;34m.\u001b[0m\u001b[0mapi\u001b[0m \u001b[0;32mas\u001b[0m \u001b[0msm\u001b[0m\u001b[0;34m\u001b[0m\u001b[0;34m\u001b[0m\u001b[0m\n",
      "\u001b[0;31mModuleNotFoundError\u001b[0m: No module named 'pandas_profiling'"
     ]
    }
   ],
   "source": [
    "%matplotlib inline\n",
    "\n",
    "import gzip\n",
    "import io\n",
    "import os\n",
    "\n",
    "import matplotlib.pyplot as plt\n",
    "import numpy as np\n",
    "import pandas as pd\n",
    "import pandas_profiling\n",
    "import seaborn as sns\n",
    "import statsmodels.api as sm\n",
    "import xgboost as xgb\n",
    "from bokeh.io import output_notebook\n",
    "from bokeh.layouts import column\n",
    "from bokeh.models import Band, ColumnDataSource, HoverTool, NumeralTickFormatter, Select\n",
    "from bokeh.plotting import figure, gridplot, show\n",
    "from fancyimpute import KNN, NuclearNormMinimization, SoftImpute, BiScaler\n",
    "from s3fs import S3FileSystem\n",
    "from sklearn.datasets import load_iris\n",
    "from sklearn.impute import SimpleImputer\n",
    "from sklearn.metrics import confusion_matrix\n",
    "from sklearn.model_selection import GridSearchCV, learning_curve, ShuffleSplit, train_test_split\n",
    "from sklearn.naive_bayes import GaussianNB\n",
    "\n",
    "\n",
    "RANDOM_STATE = 42\n",
    "output_notebook()"
   ]
  },
  {
   "cell_type": "markdown",
   "metadata": {
    "slideshow": {
     "slide_type": "slide"
    }
   },
   "source": [
    "# Model Review: Taking a model from exploration to production\n",
    "  \n",
    "<span style=\"display: inline-block; height:250px; width:720px\"></span>\n",
    "  \n",
    "  \n",
    "    \n",
    "Presented by:  \n",
    "[Andy R. Terrel, PhD](https://www.linkedin.com/in/aterrel/)  | Chief Data Scientist, [REX Inc.](https://rexhomes.com) | President, [NumFOCUS](https://numfocus.org)  \n",
    "\n",
    "Contributions by:  \n",
    "[Andy Maloney](https://linkedin.com/in/andy-maloney-a43a34195) | [John Hanley](https://  linkedin.com/in/jhanley714) | REX Data Team"
   ]
  },
  {
   "cell_type": "markdown",
   "metadata": {
    "slideshow": {
     "slide_type": "slide"
    }
   },
   "source": [
    "\n",
    "\n",
    "\n",
    "## Model is Done! NOW WHAT?\n",
    "\n",
    "<div style=\"display: flex;\">\n",
    "<div style=\"height:250px; width:15%\"></div>\n",
    "<div>\n",
    "<img src=\"../images/austin-neill-emH2e5SBifE-unsplash.jpg\" width=\"720\">\n",
    "    </div>\n",
    "</div>\n",
    "\n",
    "\n",
    "<span style=\"font-size: small\">Photo by <a href=\"https://unsplash.com/@arstyy?utm_source=unsplash&amp;utm_medium=referral&amp;utm_content=creditCopyText\">Austin Neill</a> on <a href=\"https://unsplash.com/s/photos/ship?utm_source=unsplash&amp;utm_medium=referral&amp;utm_content=creditCopyText\">Unsplash</a></span>\n"
   ]
  },
  {
   "cell_type": "markdown",
   "metadata": {
    "slideshow": {
     "slide_type": "subslide"
    }
   },
   "source": [
    "<img src=\"../images/sculley-et-al_hidden-tech-debt-ml.png\" width=1080>\n",
    "\n",
    "<span style=\"font-size: small\">Figure from Sculley, D & Holt, Gary & Golovin, Daniel & Davydov, Eugene & Phillips, Todd & Ebner, Dietmar & Chaudhary, Vinay & Young, Michael & Dennison, Dan. (2015). Hidden Technical Debt in Machine Learning Systems. NIPS. 2494-2502. <a href=\"https://papers.nips.cc/paper/5656-hidden-technical-debt-in-machine-learning-systems.pdf\">https://papers.nips.cc/paper/5656-hidden-technical-debt-in-machine-learning-systems.pdf</a></span>"
   ]
  },
  {
   "cell_type": "markdown",
   "metadata": {
    "slideshow": {
     "slide_type": "subslide"
    }
   },
   "source": [
    "Charting our journey:\n"
   ]
  },
  {
   "cell_type": "markdown",
   "metadata": {
    "slideshow": {
     "slide_type": "fragment"
    }
   },
   "source": [
    "- Understanding your models deployment"
   ]
  },
  {
   "cell_type": "markdown",
   "metadata": {
    "slideshow": {
     "slide_type": "fragment"
    }
   },
   "source": [
    "- Tracking data into and out of your model"
   ]
  },
  {
   "cell_type": "markdown",
   "metadata": {
    "slideshow": {
     "slide_type": "fragment"
    }
   },
   "source": [
    "- Detecting problems with your model"
   ]
  },
  {
   "cell_type": "markdown",
   "metadata": {
    "slideshow": {
     "slide_type": "fragment"
    }
   },
   "source": [
    "- Pulling it together in a checklist"
   ]
  },
  {
   "cell_type": "markdown",
   "metadata": {
    "slideshow": {
     "slide_type": "slide"
    }
   },
   "source": [
    "## Understanding your models deployment\n",
    "\n",
    "<img src=\"../images/guillaume-bolduc-uBe2mknURG4-unsplash.jpg\" width=\"720\">\n",
    "\n",
    "<span style=\"font-size: small\">Photo by <a href=\"https://unsplash.com/@guibolduc?utm_source=unsplash&amp;utm_medium=referral&amp;utm_content=creditCopyText\">Guillaume Bolduc</a> on <a href=\"https://unsplash.com/s/photos/ship?utm_source=unsplash&amp;utm_medium=referral&amp;utm_content=creditCopyText\">Unsplash</a></span>"
   ]
  },
  {
   "cell_type": "markdown",
   "metadata": {
    "slideshow": {
     "slide_type": "subslide"
    }
   },
   "source": [
    "### Data collection"
   ]
  },
  {
   "cell_type": "markdown",
   "metadata": {
    "slideshow": {
     "slide_type": "subslide"
    }
   },
   "source": [
    "#### **`DATA SOURCES`**\n",
    "\n",
    "  List all data sources, _e.g._. This should help you understand what data can\n",
    "  be used for the analysis/model, and how to ultimately do the ETL for the\n",
    "  model.\n",
    "\n",
    "  * Application database\n",
    "  * Customer Relations Manager records\n",
    "  * Web analytic events\n"
   ]
  },
  {
   "cell_type": "markdown",
   "metadata": {
    "slideshow": {
     "slide_type": "subslide"
    }
   },
   "source": [
    "#### PROVENANCE\n",
    "\n",
    "  Basically you need to show _and store_ the following Entity, Activity, and Agent information about the notebook/models.\n",
    "  \n",
    "  <img src=\"../images/provbook-example.png\" width=720>\n",
    "  \n",
    "  <span style=\"font-size: small\">Dong Huynh,\n",
    "    http://trungdong.github.io/prov-python-short-tutorial.html</span>"
   ]
  },
  {
   "cell_type": "markdown",
   "metadata": {
    "slideshow": {
     "slide_type": "subslide"
    }
   },
   "source": [
    "  #### PROVENANCE\n",
    "\n",
    "  * Entity\n",
    "\n",
    "    * An entity is a physical, digital, conceptual, or other kind of thing\n",
    "      with some fixed aspects; entities may be real or imaginary.\n",
    "\n",
    "  * Activity\n",
    "\n",
    "    * An activity is something that occurs over a period of time and acts upon\n",
    "      or with entities; it may include consuming, processing, transforming,\n",
    "      modifying, relocating, using, or generating entities.\n",
    "\n",
    "  * Agent\n",
    "\n",
    "    * An agent is something that bears some form of responsibility for an\n",
    "      activity taking place, for the existence of an entity, or for another\n",
    "      agent's activity."
   ]
  },
  {
   "cell_type": "markdown",
   "metadata": {
    "slideshow": {
     "slide_type": "subslide"
    }
   },
   "source": [
    "#### Testing contracts into and out of your model\n",
    "\n",
    "- During model building, you discovered many things about features:\n",
    "  + range of feature\n",
    "  + distribution of feature\n",
    "  + sensitivity to feature variance\n",
    "- These learnings can be codified into preprocessing stages of your model\n",
    "- Additionally, you can monitor the predictions of your model in the same fashion, detecting when your predictions start to be biased\n"
   ]
  },
  {
   "cell_type": "markdown",
   "metadata": {
    "slideshow": {
     "slide_type": "subslide"
    }
   },
   "source": [
    "### Prediction Environment\n",
    "\n",
    "\n",
    "- How do you get called?\n",
    "- What is the SLA your code needs to adhere to?\n",
    "- What are the systems monitoring the model?"
   ]
  },
  {
   "cell_type": "markdown",
   "metadata": {
    "slideshow": {
     "slide_type": "subslide"
    }
   },
   "source": [
    "#### How do you get called\n",
    "\n",
    "\n",
    "<img src=\"../images/richards-event-architecture.png\" width=720>\n",
    "\n",
    "<span style=\"font-size: small\">Figure from Mark Richards, __Software Architecture Patterns__</span>"
   ]
  },
  {
   "cell_type": "markdown",
   "metadata": {
    "slideshow": {
     "slide_type": "subslide"
    }
   },
   "source": [
    "#### What is your speed layer\n",
    "\n",
    "<img src=\"../images/mapr-lambda-architecture.png\" width=720>\n",
    "\n",
    "\n",
    "<span style=\"font-size: small\">Figure by MapR</span>"
   ]
  },
  {
   "cell_type": "markdown",
   "metadata": {
    "slideshow": {
     "slide_type": "subslide"
    }
   },
   "source": [
    "#### Who is monitoring you?\n",
    "\n",
    "\n",
    "<img src=\"../images/terrel-breakdown-of-on-node-monitors.png\" width=720>\n",
    "\n",
    "<span style=\"font-size: small\">Figure by Andy Terrel</span>"
   ]
  },
  {
   "cell_type": "markdown",
   "metadata": {
    "slideshow": {
     "slide_type": "slide"
    }
   },
   "source": [
    "## How did you get there ?!\n",
    "\n",
    "\n",
    "<img src=\"../images/noaa-3duT-54VuK8-unsplash.jpg\" width=720>\n",
    "\n",
    "\n",
    "<span style=\"font-size: small\">Photo by <a href=\"https://unsplash.com/@noaa?utm_source=unsplash&amp;utm_medium=referral&amp;utm_content=creditCopyText\">NOAA</a> on <a href=\"https://unsplash.com/s/photos/ship?utm_source=unsplash&amp;utm_medium=referral&amp;utm_content=creditCopyText\">Unsplash</a></span>"
   ]
  },
  {
   "cell_type": "markdown",
   "metadata": {
    "slideshow": {
     "slide_type": "subslide"
    }
   },
   "source": [
    "### Data provenance"
   ]
  },
  {
   "cell_type": "code",
   "execution_count": 1,
   "metadata": {
    "slideshow": {
     "slide_type": "subslide"
    }
   },
   "outputs": [],
   "source": [
    "class Extract:\n",
    "    \"\"\"This is an example of an Agent. This object is going to be a recipe\n",
    "    for the extraction of data. It will not do anything by itself, since the\n",
    "    extraction is done through the _extract method that must be written by a\n",
    "    class that inherits this object.\n",
    "    \"\"\"\n",
    "\n",
    "    def _extract(self, *args, **kwargs):\n",
    "        raise NotImplementedError('To be implemented by the inheriting class.')\n",
    "\n",
    "    def extract(self, *args, **kwargs):\n",
    "        extracted_data = self._extract(*args, **kwargs)\n",
    "        return extracted_data"
   ]
  },
  {
   "cell_type": "code",
   "execution_count": 2,
   "metadata": {
    "slideshow": {
     "slide_type": "subslide"
    }
   },
   "outputs": [],
   "source": [
    "class Transform:\n",
    "    \"\"\"This is another Agent that we will use to transform any extracted data.\"\"\"\n",
    "\n",
    "    def _transform(self, *args, **kwargs):\n",
    "        raise NotImplementedError('To be implemented by the inheriting class.')\n",
    "\n",
    "    def transform(self, *args, **kwargs):\n",
    "        transformed_data = self._transform(*args, **kwargs)\n",
    "        return transformed_data"
   ]
  },
  {
   "cell_type": "code",
   "execution_count": 3,
   "metadata": {
    "slideshow": {
     "slide_type": "subslide"
    }
   },
   "outputs": [],
   "source": [
    "class Load:\n",
    "    \"\"\"Just as in the Extract and Transform objects, we create a Load object\n",
    "    that is a yet another Agent. We will use this data loading object to build\n",
    "    another data set object that will be used to create entities for our\n",
    "    model(s).\n",
    "    \"\"\"\n",
    "\n",
    "    def _load(self, *args, **kwargs):\n",
    "        raise NotImplementedError('To be implemented by the inheriting class.')\n",
    "\n",
    "    def load(self, *args, **kwargs):\n",
    "        loaded_data = self._load(*args, **kwargs)\n",
    "        return loaded_data"
   ]
  },
  {
   "cell_type": "code",
   "execution_count": 5,
   "metadata": {
    "collapsed": true,
    "slideshow": {
     "slide_type": "subslide"
    }
   },
   "outputs": [
    {
     "ename": "NameError",
     "evalue": "name 'S3FileSystem' is not defined",
     "output_type": "error",
     "traceback": [
      "\u001b[0;31m---------------------------------------------------------------------------\u001b[0m",
      "\u001b[0;31mNameError\u001b[0m                                 Traceback (most recent call last)",
      "\u001b[0;32m<ipython-input-5-3b60933b5d24>\u001b[0m in \u001b[0;36m<module>\u001b[0;34m()\u001b[0m\n\u001b[0;32m----> 1\u001b[0;31m \u001b[0;32mclass\u001b[0m \u001b[0mCSVDataSet\u001b[0m\u001b[0;34m:\u001b[0m\u001b[0;34m\u001b[0m\u001b[0;34m\u001b[0m\u001b[0m\n\u001b[0m\u001b[1;32m      2\u001b[0m     \"\"\"This example will show how to persist a data set locally and on S3. This\n\u001b[1;32m      3\u001b[0m     \u001b[0;32mis\u001b[0m \u001b[0man\u001b[0m \u001b[0mAgent\u001b[0m \u001b[0mthat\u001b[0m \u001b[0morchestrates\u001b[0m \u001b[0mthe\u001b[0m \u001b[0mloading\u001b[0m \u001b[0mof\u001b[0m \u001b[0mdata\u001b[0m \u001b[0mset\u001b[0m \u001b[0;32mand\u001b[0m \u001b[0mthe\u001b[0m\u001b[0;34m\u001b[0m\u001b[0;34m\u001b[0m\u001b[0m\n\u001b[1;32m      4\u001b[0m     \u001b[0mcreation\u001b[0m \u001b[0mof\u001b[0m \u001b[0mthe\u001b[0m \u001b[0mdata\u001b[0m \u001b[0mset\u001b[0m \u001b[0mobject\u001b[0m\u001b[0;34m.\u001b[0m\u001b[0;34m\u001b[0m\u001b[0;34m\u001b[0m\u001b[0m\n\u001b[1;32m      5\u001b[0m \u001b[0;34m\u001b[0m\u001b[0m\n",
      "\u001b[0;32m<ipython-input-5-3b60933b5d24>\u001b[0m in \u001b[0;36mCSVDataSet\u001b[0;34m()\u001b[0m\n\u001b[1;32m     18\u001b[0m     \u001b[0mdata_set_path_local\u001b[0m \u001b[0;34m=\u001b[0m \u001b[0;32mNone\u001b[0m\u001b[0;34m\u001b[0m\u001b[0;34m\u001b[0m\u001b[0m\n\u001b[1;32m     19\u001b[0m     \u001b[0mdata_set_path_remote\u001b[0m \u001b[0;34m=\u001b[0m \u001b[0;32mNone\u001b[0m\u001b[0;34m\u001b[0m\u001b[0;34m\u001b[0m\u001b[0m\n\u001b[0;32m---> 20\u001b[0;31m     \u001b[0ms3\u001b[0m \u001b[0;34m=\u001b[0m \u001b[0mS3FileSystem\u001b[0m\u001b[0;34m(\u001b[0m\u001b[0;34m)\u001b[0m\u001b[0;34m\u001b[0m\u001b[0;34m\u001b[0m\u001b[0m\n\u001b[0m",
      "\u001b[0;31mNameError\u001b[0m: name 'S3FileSystem' is not defined"
     ]
    }
   ],
   "source": [
    "class CSVDataSet:\n",
    "    \"\"\"This example will show how to persist a data set locally and on S3. This\n",
    "    is an Agent that orchestrates the loading of data set and the\n",
    "    creation of the data set object.\n",
    "\n",
    "    Again, this object will not do anything useful since it requires bucket\n",
    "    names and file names to be created, as well as the _load method.\n",
    "    \"\"\"\n",
    "\n",
    "    name = None\n",
    "    data_set_name = None\n",
    "    data_set_file_extension = 'csv'\n",
    "    file_compression = 'gz'\n",
    "    data_set_file_name = None\n",
    "    bucket_local = None\n",
    "    bucket_remote = None\n",
    "    bucket_prefix = None\n",
    "    data_set_path_local = None\n",
    "    data_set_path_remote = None\n",
    "    s3 = S3FileSystem()"
   ]
  },
  {
   "cell_type": "code",
   "execution_count": null,
   "metadata": {
    "slideshow": {
     "slide_type": "subslide"
    }
   },
   "outputs": [],
   "source": [
    "    def cache_df(self, df, where):\n",
    "        print(f'Caching data set {where}.')\n",
    "        data_set_buffer = io.StringIO()\n",
    "        df.to_csv(data_set_buffer, index=False)\n",
    "        data_set_buffer.seek(0)\n",
    "        gzipped_data_set_buffer = io.BytesIO()\n",
    "        with gzip.GzipFile(mode='w', fileobj=gzipped_data_set_buffer) as file_:\n",
    "            file_.write(bytes(data_set_buffer.getvalue(), 'utf-8'))\n",
    "\n",
    "        if where == 'locally':\n",
    "            with open(self.data_set_path_local, 'wb') as file_:\n",
    "                file_.write(gzipped_data_set_buffer.getvalue())\n",
    "\n",
    "        elif where == 'remotely':\n",
    "            with self.s3.open(self.data_set_path_remote, 'wb') as file_:\n",
    "                file_.write(gzipped_data_set_buffer.getvalue())\n"
   ]
  },
  {
   "cell_type": "code",
   "execution_count": null,
   "metadata": {
    "slideshow": {
     "slide_type": "subslide"
    }
   },
   "outputs": [],
   "source": [
    "    def _load_data_set(self, *args, **kwargs):\n",
    "        if 'overwrite_cache' in kwargs:\n",
    "            overwrite_cache = kwargs.get('overwrite_cache', False)\n",
    "        else:\n",
    "            overwrite_cache = False\n",
    "            \n",
    "        ...\n",
    "\n",
    "        if data_set_exists_locally:\n",
    "            print('Loading the data set from the local cache.')\n",
    "            self.df = pd.read_csv(self.data_set_path_local, low_memory=False)\n",
    "            if not data_set_exists_remotely:\n",
    "                self.cache_df(df=self.df, where='remotely')\n",
    "                \n",
    "        ...\n",
    "\n",
    "    def load_data_set(self, *args, **kwargs):\n",
    "        self._load_data_set(*args, **kwargs)\n",
    "\n",
    "    def is_data_set_cached(self):\n",
    "        return not self.df.empty"
   ]
  },
  {
   "cell_type": "code",
   "execution_count": 6,
   "metadata": {
    "slideshow": {
     "slide_type": "subslide"
    }
   },
   "outputs": [],
   "source": [
    "class IrisDataExtractor(Extract):\n",
    "    \"\"\"This is an example of an Activity. It will require the inheritance of\n",
    "    the agent called Extract. Here we will write the actual extraction of the\n",
    "    data. This object could perform the generation of an Entity, if the\n",
    "    extraction is a time-consuming process.\n",
    "    \"\"\"\n",
    "\n",
    "    def _extract(self):\n",
    "        iris_data = load_iris()\n",
    "        return iris_data"
   ]
  },
  {
   "cell_type": "code",
   "execution_count": 7,
   "metadata": {
    "slideshow": {
     "slide_type": "subslide"
    }
   },
   "outputs": [],
   "source": [
    "class IrisDataTransformer(Transform):\n",
    "    \"\"\"As was done with the data extraction, here we will write the data\n",
    "    transformation. This is another example of an Activity. It should be\n",
    "    noted that this is not a generic transformation class. It is dependent\n",
    "    on the extracted Iris data set. If you make this class a generic data\n",
    "    transformation, then you need to make sure that any assumptions about the\n",
    "    model are described further in the process. Making this \"generic\" could be\n",
    "    useful if you need to make many models with different assumptions in them\n",
    "    that are all based on the same data.\n",
    "\n",
    "    If you do not need to make this generic, then it is a good idea to place\n",
    "    all assumptions about the model and data in this object.\n",
    "    \"\"\"\n",
    "\n",
    "    def _transform(self, data):\n",
    "        df = pd.DataFrame(\n",
    "            data=data['data'],\n",
    "            columns=data['feature_names'],\n",
    "        )\n",
    "        name_dict = {i: name for i, name in enumerate(data['target_names'])}\n",
    "        df['iris_name'] = data['target']\n",
    "        df['iris_name'] = df['iris_name'].apply(lambda index: name_dict[index])\n",
    "        return df"
   ]
  },
  {
   "cell_type": "code",
   "execution_count": 8,
   "metadata": {
    "slideshow": {
     "slide_type": "subslide"
    }
   },
   "outputs": [
    {
     "ename": "NameError",
     "evalue": "name 'pd' is not defined",
     "output_type": "error",
     "traceback": [
      "\u001b[0;31m---------------------------------------------------------------------------\u001b[0m",
      "\u001b[0;31mNameError\u001b[0m                                 Traceback (most recent call last)",
      "\u001b[0;32m<ipython-input-8-54809401a317>\u001b[0m in \u001b[0;36m<module>\u001b[0;34m()\u001b[0m\n\u001b[0;32m----> 1\u001b[0;31m \u001b[0;32mclass\u001b[0m \u001b[0mIrisDataLoader\u001b[0m\u001b[0;34m(\u001b[0m\u001b[0mLoad\u001b[0m\u001b[0;34m)\u001b[0m\u001b[0;34m:\u001b[0m\u001b[0;34m\u001b[0m\u001b[0;34m\u001b[0m\u001b[0m\n\u001b[0m\u001b[1;32m      2\u001b[0m     \"\"\"This specific example of an Activity also sets the dataframe attribute\n\u001b[1;32m      3\u001b[0m     \u001b[0;32mas\u001b[0m \u001b[0man\u001b[0m \u001b[0mEntity\u001b[0m \u001b[0mto\u001b[0m \u001b[0mthis\u001b[0m \u001b[0mobject\u001b[0m\u001b[0;34m.\u001b[0m \u001b[0mThis\u001b[0m \u001b[0mmay\u001b[0m \u001b[0mseem\u001b[0m \u001b[0munusual\u001b[0m \u001b[0mright\u001b[0m \u001b[0mnow\u001b[0m\u001b[0;34m,\u001b[0m \u001b[0mbut\u001b[0m \u001b[0mit\u001b[0m \u001b[0mwill\u001b[0m\u001b[0;34m\u001b[0m\u001b[0;34m\u001b[0m\u001b[0m\n\u001b[1;32m      4\u001b[0m     \u001b[0mmake\u001b[0m \u001b[0msense\u001b[0m \u001b[0mwhen\u001b[0m \u001b[0mused\u001b[0m \u001b[0;32min\u001b[0m \u001b[0mconjunction\u001b[0m \u001b[0;32mwith\u001b[0m \u001b[0mthe\u001b[0m \u001b[0mDataSet\u001b[0m \u001b[0mobject\u001b[0m \u001b[0mbelow\u001b[0m\u001b[0;34m.\u001b[0m\u001b[0;34m\u001b[0m\u001b[0;34m\u001b[0m\u001b[0m\n\u001b[1;32m      5\u001b[0m     \"\"\"\n",
      "\u001b[0;32m<ipython-input-8-54809401a317>\u001b[0m in \u001b[0;36mIrisDataLoader\u001b[0;34m()\u001b[0m\n\u001b[1;32m      5\u001b[0m     \"\"\"\n\u001b[1;32m      6\u001b[0m \u001b[0;34m\u001b[0m\u001b[0m\n\u001b[0;32m----> 7\u001b[0;31m     \u001b[0mdf\u001b[0m \u001b[0;34m=\u001b[0m \u001b[0mpd\u001b[0m\u001b[0;34m.\u001b[0m\u001b[0mDataFrame\u001b[0m\u001b[0;34m(\u001b[0m\u001b[0;34m)\u001b[0m\u001b[0;34m\u001b[0m\u001b[0;34m\u001b[0m\u001b[0m\n\u001b[0m\u001b[1;32m      8\u001b[0m \u001b[0;34m\u001b[0m\u001b[0m\n\u001b[1;32m      9\u001b[0m     \u001b[0;32mdef\u001b[0m \u001b[0m_load\u001b[0m\u001b[0;34m(\u001b[0m\u001b[0mself\u001b[0m\u001b[0;34m)\u001b[0m\u001b[0;34m:\u001b[0m\u001b[0;34m\u001b[0m\u001b[0;34m\u001b[0m\u001b[0m\n",
      "\u001b[0;31mNameError\u001b[0m: name 'pd' is not defined"
     ]
    }
   ],
   "source": [
    "class IrisDataLoader(Load):\n",
    "    \"\"\"This specific example of an Activity also sets the dataframe attribute\n",
    "    as an Entity to this object. This may seem unusual right now, but it will\n",
    "    make sense when used in conjunction with the DataSet object below.\n",
    "    \"\"\"\n",
    "\n",
    "    df = pd.DataFrame()\n",
    "\n",
    "    def _load(self):\n",
    "        extractor = IrisDataExtractor()\n",
    "        extracted_data = extractor.extract()\n",
    "        transformer = IrisDataTransformer()\n",
    "        transformed_data = transformer.transform(extracted_data)\n",
    "        self.df = transformed_data.copy()\n",
    "        return self.df"
   ]
  },
  {
   "cell_type": "code",
   "execution_count": 9,
   "metadata": {
    "slideshow": {
     "slide_type": "subslide"
    }
   },
   "outputs": [
    {
     "ename": "NameError",
     "evalue": "name 'CSVDataSet' is not defined",
     "output_type": "error",
     "traceback": [
      "\u001b[0;31m---------------------------------------------------------------------------\u001b[0m",
      "\u001b[0;31mNameError\u001b[0m                                 Traceback (most recent call last)",
      "\u001b[0;32m<ipython-input-9-52fe6e88ab96>\u001b[0m in \u001b[0;36m<module>\u001b[0;34m()\u001b[0m\n\u001b[0;32m----> 1\u001b[0;31m \u001b[0;32mclass\u001b[0m \u001b[0mIrisDataSet\u001b[0m\u001b[0;34m(\u001b[0m\u001b[0mCSVDataSet\u001b[0m\u001b[0;34m,\u001b[0m \u001b[0mIrisDataLoader\u001b[0m\u001b[0;34m)\u001b[0m\u001b[0;34m:\u001b[0m\u001b[0;34m\u001b[0m\u001b[0;34m\u001b[0m\u001b[0m\n\u001b[0m\u001b[1;32m      2\u001b[0m \u001b[0;34m\u001b[0m\u001b[0m\n\u001b[1;32m      3\u001b[0m     \u001b[0mbucket_local\u001b[0m \u001b[0;34m=\u001b[0m \u001b[0;34m'../data/'\u001b[0m\u001b[0;34m\u001b[0m\u001b[0;34m\u001b[0m\u001b[0m\n\u001b[1;32m      4\u001b[0m     \u001b[0mbucket_remote\u001b[0m \u001b[0;34m=\u001b[0m \u001b[0;34m'org-rex-data'\u001b[0m\u001b[0;34m\u001b[0m\u001b[0;34m\u001b[0m\u001b[0m\n\u001b[1;32m      5\u001b[0m     \u001b[0mbucket_prefix\u001b[0m \u001b[0;34m=\u001b[0m \u001b[0;34m'research/rex-analysis/amaloney'\u001b[0m\u001b[0;34m\u001b[0m\u001b[0;34m\u001b[0m\u001b[0m\n",
      "\u001b[0;31mNameError\u001b[0m: name 'CSVDataSet' is not defined"
     ]
    }
   ],
   "source": [
    "class IrisDataSet(CSVDataSet, IrisDataLoader):\n",
    "\n",
    "    bucket_local = '../data/'\n",
    "    bucket_remote = 'org-rex-data'\n",
    "    bucket_prefix = 'research/rex-analysis/amaloney'\n",
    "\n",
    "    def __init__(self):\n",
    "        self.generate_names_with_cache_paths()"
   ]
  },
  {
   "cell_type": "markdown",
   "metadata": {
    "slideshow": {
     "slide_type": "subslide"
    }
   },
   "source": [
    "### Showing your Data Prep"
   ]
  },
  {
   "cell_type": "code",
   "execution_count": null,
   "metadata": {},
   "outputs": [],
   "source": []
  },
  {
   "cell_type": "markdown",
   "metadata": {
    "slideshow": {
     "slide_type": "subslide"
    }
   },
   "source": [
    "### Defining your model KPIs"
   ]
  },
  {
   "cell_type": "markdown",
   "metadata": {
    "slideshow": {
     "slide_type": "subslide"
    }
   },
   "source": [
    "### Finishing a checklist"
   ]
  },
  {
   "cell_type": "markdown",
   "metadata": {
    "slideshow": {
     "slide_type": "slide"
    }
   },
   "source": [
    "## ZOMG It's down!!!\n",
    "\n",
    "<img src=\"../images/casey-horner-y7jrFSlVZAQ-unsplash-cropped.jpg\" width=720>\n",
    "\n",
    "\n",
    "<span style=\"font-size: small\">Photo by <a href=\"https://unsplash.com/@mischievous_penguins?utm_source=unsplash&amp;utm_medium=referral&amp;utm_content=creditCopyText\">Casey Horner</a> on <a href=\"https://unsplash.com/s/photos/ship?utm_source=unsplash&amp;utm_medium=referral&amp;utm_content=creditCopyText\">Unsplash</a></span>"
   ]
  },
  {
   "cell_type": "markdown",
   "metadata": {
    "slideshow": {
     "slide_type": "subslide"
    }
   },
   "source": [
    "### Define healthchecks"
   ]
  },
  {
   "cell_type": "markdown",
   "metadata": {
    "slideshow": {
     "slide_type": "subslide"
    }
   },
   "source": [
    "### Use model servers"
   ]
  },
  {
   "cell_type": "markdown",
   "metadata": {
    "slideshow": {
     "slide_type": "subslide"
    }
   },
   "source": [
    "### Connect to alerting systems"
   ]
  },
  {
   "cell_type": "markdown",
   "metadata": {
    "slideshow": {
     "slide_type": "slide"
    }
   },
   "source": [
    "## Finally time to start again!\n",
    "\n",
    "<img src=\"../images/whoisbenjamin-ApJp5Nk24a0-unsplash.jpg\" width=720>\n",
    "\n",
    "<span style=\"font-size: small\">Photo by <a href=\"https://unsplash.com/@whoisbenjamin?utm_source=unsplash&amp;utm_medium=referral&amp;utm_content=creditCopyText\">@whoisbenjamin</a> on <a href=\"https://unsplash.com/s/photos/ships-indian-ocean?utm_source=unsplash&amp;utm_medium=referral&amp;utm_content=creditCopyText\">Unsplash</a></span>"
   ]
  }
 ],
 "metadata": {
  "celltoolbar": "Slideshow",
  "kernelspec": {
   "display_name": "Python 3",
   "language": "python",
   "name": "python3"
  },
  "language_info": {
   "codemirror_mode": {
    "name": "ipython",
    "version": 3
   },
   "file_extension": ".py",
   "mimetype": "text/x-python",
   "name": "python",
   "nbconvert_exporter": "python",
   "pygments_lexer": "ipython3",
   "version": "3.7.6"
  }
 },
 "nbformat": 4,
 "nbformat_minor": 4
}
